{
  "nbformat": 4,
  "nbformat_minor": 0,
  "metadata": {
    "colab": {
      "provenance": [],
      "toc_visible": true,
      "authorship_tag": "ABX9TyOGPuh6kwK0svUSWTeIo40c",
      "include_colab_link": true
    },
    "kernelspec": {
      "name": "python3",
      "display_name": "Python 3"
    },
    "language_info": {
      "name": "python"
    }
  },
  "cells": [
    {
      "cell_type": "markdown",
      "metadata": {
        "id": "view-in-github",
        "colab_type": "text"
      },
      "source": [
        "<a href=\"https://colab.research.google.com/github/Jonathan-Brito/MachineLearningNotebooks/blob/master/Formacao_Completa_Inteligencia_Artificial_e_Machine_Learning.ipynb\" target=\"_parent\"><img src=\"https://colab.research.google.com/assets/colab-badge.svg\" alt=\"Open In Colab\"/></a>"
      ]
    },
    {
      "cell_type": "markdown",
      "source": [],
      "metadata": {
        "id": "uOyLxmmyARqp"
      }
    },
    {
      "cell_type": "code",
      "execution_count": null,
      "metadata": {
        "id": "1XHtaHHa_dZW"
      },
      "outputs": [],
      "source": []
    },
    {
      "cell_type": "markdown",
      "source": [
        "# Introdução Fundamentos-de-Machine-Learning"
      ],
      "metadata": {
        "id": "ufzGVFUsATy4"
      }
    },
    {
      "cell_type": "markdown",
      "source": [
        "# Fundamentos-de-Machine-Learning"
      ],
      "metadata": {
        "id": "kQ9frzNxAg2Z"
      }
    },
    {
      "cell_type": "code",
      "source": [],
      "metadata": {
        "id": "pG3fr27-ApO5"
      },
      "execution_count": null,
      "outputs": []
    }
  ]
}